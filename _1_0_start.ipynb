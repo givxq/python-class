{
 "cells": [
  {
   "attachments": {},
   "cell_type": "markdown",
   "id": "a8953508",
   "metadata": {},
   "source": [
    "# 1. start\n",
    "## 파\n",
    "\n",
    "#### python3 설치\n",
    "- [https://www.python.org]\n",
    "\n",
    "\n",
    "#### anaconda 설치\n",
    "- [https://www.anaconda.com]\n",
    "\n",
    "\n",
    "#### jupiter 설치\n",
    "- [https://jupyter.org]\n",
    "\n",
    "#### visual code 설치\n",
    "- [https://code.visualstudio.com]\n",
    "- 플러그인 설치\n",
    "    - jupyter, python, pythom indent, material icon, material\n",
    "\n",
    "\n"
   ]
  }
 ],
 "metadata": {
  "kernelspec": {
   "display_name": "Python 3",
   "language": "python",
   "name": "python3"
  },
  "language_info": {
   "codemirror_mode": {
    "name": "ipython",
    "version": 3
   },
   "file_extension": ".py",
   "mimetype": "text/x-python",
   "name": "python",
   "nbconvert_exporter": "python",
   "pygments_lexer": "ipython3",
   "version": "3.9.6 (default, Oct 18 2022, 12:41:40) \n[Clang 14.0.0 (clang-1400.0.29.202)]"
  },
  "vscode": {
   "interpreter": {
    "hash": "31f2aee4e71d21fbe5cf8b01ff0e069b9275f58929596ceb00d14d90e3e16cd6"
   }
  }
 },
 "nbformat": 4,
 "nbformat_minor": 5
}
