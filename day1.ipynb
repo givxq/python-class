{
 "cells": [
  {
   "cell_type": "markdown",
   "id": "a8953508",
   "metadata": {},
   "source": [
    "# python day 1\n",
    "\n",
    "파이썬의 기초를 알아보자.\n",
    "\n",
    "- 숫자 : int, float\n",
    "- 문자열 : string"
   ]
  },
  {
   "cell_type": "code",
   "execution_count": null,
   "id": "8659b2c4",
   "metadata": {},
   "outputs": [],
   "source": []
  }
 ],
 "metadata": {
  "kernelspec": {
   "display_name": "Python 3 (ipykernel)",
   "language": "python",
   "name": "python3"
  },
  "language_info": {
   "codemirror_mode": {
    "name": "ipython",
    "version": 3
   },
   "file_extension": ".py",
   "mimetype": "text/x-python",
   "name": "python",
   "nbconvert_exporter": "python",
   "pygments_lexer": "ipython3",
   "version": "3.9.6"
  }
 },
 "nbformat": 4,
 "nbformat_minor": 5
}
